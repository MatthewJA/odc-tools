{
 "cells": [
  {
   "cell_type": "markdown",
   "metadata": {},
   "source": [
    "### Pre-requisite\n",
    "\n",
    "- PostgresSQL installed and configured to give superuser permission to your `$USER`\n",
    "- Empty datacube database inited without default metadata\n",
    "- `s2_l2a_all.db` generated on sandbox and downloaded to PC\n",
    "\n",
    "On Sandbox (Africa)\n",
    "\n",
    "```bash\n",
    "odc-stats save-tasks --grid albers_africa_20 s2_l2a\n",
    "tar cvf s2_l2a_all.db.tar s2_l2a_all.db\n",
    "```\n",
    "\n",
    "On PC\n",
    "\n",
    "```bash\n",
    "createdb datacube\n",
    "datacube system init --no-default-types\n",
    "```\n",
    "\n",
    "Make sure you have `~/.datacube.conf` with something like this in it\n",
    "\n",
    "```\n",
    "[datacube]\n",
    "db_database: datacube\n",
    "```\n"
   ]
  },
  {
   "cell_type": "code",
   "execution_count": 6,
   "metadata": {},
   "outputs": [
    {
     "data": {
      "text/plain": [
       "1488573"
      ]
     },
     "metadata": {},
     "output_type": "display_data"
    },
    {
     "data": {
      "text/plain": [
       "{'eo3': MetadataType(name='eo3', id_=None)}"
      ]
     },
     "metadata": {},
     "output_type": "display_data"
    },
    {
     "data": {
      "text/plain": [
       "{'s2_l2a': DatasetType(name='s2_l2a', id_=None)}"
      ]
     },
     "metadata": {},
     "output_type": "display_data"
    }
   ],
   "source": [
    "from itertools import islice\n",
    "import datacube\n",
    "from odc import dscache\n",
    "from tqdm.auto import tqdm\n",
    "\n",
    "db_fname = \"/mnt/c/Users/Toktam/geoscience/odc-tools/s2_l2a_all.db\"\n",
    "cache = dscache.open_ro(db_fname)\n",
    "\n",
    "display(cache.count, cache.metadata, cache.products)\n",
    "\n",
    "dc = datacube.Datacube()\n",
    "\n",
    "for m in cache.metadata.values():\n",
    "    dc.index.metadata_types.add(m)\n",
    "\n",
    "for p in cache.products.values():\n",
    "    dc.index.products.add(p)"
   ]
  },
  {
   "cell_type": "markdown",
   "metadata": {},
   "source": [
    "### Long Task Warning\n",
    "\n",
    "Code below will take a while to run."
   ]
  },
  {
   "cell_type": "code",
   "execution_count": 7,
   "metadata": {},
   "outputs": [
    {
     "data": {
      "text/plain": [
       "{'eo3': MetadataType(name='eo3', id_=1)}"
      ]
     },
     "metadata": {},
     "output_type": "display_data"
    },
    {
     "data": {
      "text/plain": [
       "{'s2_l2a': DatasetType(name='s2_l2a', id_=1)}"
      ]
     },
     "metadata": {},
     "output_type": "display_data"
    },
    {
     "data": {
      "application/vnd.jupyter.widget-view+json": {
       "model_id": "2ea95f85368b48f19fecfc96e3496cc7",
       "version_major": 2,
       "version_minor": 0
      },
      "text/plain": [
       "HBox(children=(FloatProgress(value=0.0, max=1488573.0), HTML(value='')))"
      ]
     },
     "metadata": {},
     "output_type": "display_data"
    },
    {
     "name": "stdout",
     "output_type": "stream",
     "text": [
      "\n"
     ]
    }
   ],
   "source": [
    "cache = dscache.open_ro(db_fname, products=dc.index.products.get_all())\n",
    "\n",
    "display(cache.metadata, cache.products)\n",
    "\n",
    "dss = tqdm(cache.get_all(), total=cache.count)\n",
    "for ds in dss:\n",
    "    dc.index.datasets.add(ds, with_lineage=False)"
   ]
  }
 ],
 "metadata": {
  "kernelspec": {
   "display_name": "py36_data_cube",
   "language": "python",
   "name": "py36_data_cube"
  },
  "language_info": {
   "codemirror_mode": {
    "name": "ipython",
    "version": 3
   },
   "file_extension": ".py",
   "mimetype": "text/x-python",
   "name": "python",
   "nbconvert_exporter": "python",
   "pygments_lexer": "ipython3",
   "version": "3.6.11"
  }
 },
 "nbformat": 4,
 "nbformat_minor": 4
}
